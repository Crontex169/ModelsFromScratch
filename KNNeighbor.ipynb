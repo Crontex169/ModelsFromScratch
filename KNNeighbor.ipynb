{
  "nbformat": 4,
  "nbformat_minor": 0,
  "metadata": {
    "colab": {
      "provenance": []
    },
    "kernelspec": {
      "name": "python3",
      "display_name": "Python 3"
    },
    "language_info": {
      "name": "python"
    }
  },
  "cells": [
    {
      "cell_type": "code",
      "source": [
        "import numpy as np"
      ],
      "metadata": {
        "id": "T5fxLT7b1Avi"
      },
      "execution_count": 2,
      "outputs": []
    },
    {
      "cell_type": "code",
      "execution_count": 3,
      "metadata": {
        "id": "4D61Fv4dzpvA"
      },
      "outputs": [],
      "source": [
        "class KNNeighbors():\n",
        "  def __init__(self,k):\n",
        "    self.k=k\n",
        "  def minkowski(p,output,label):\n",
        "    temp=((output)-(label))**p\n",
        "    sum=np.sum(temp)\n",
        "    res=sum**1/p\n",
        "    return res\n",
        "  def fit(x,label):\n",
        "    pass"
      ]
    },
    {
      "cell_type": "code",
      "source": [],
      "metadata": {
        "id": "CXWx0q_szuOs"
      },
      "execution_count": null,
      "outputs": []
    }
  ]
}