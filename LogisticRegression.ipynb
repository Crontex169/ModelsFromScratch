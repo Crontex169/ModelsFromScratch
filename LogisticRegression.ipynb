{
  "nbformat": 4,
  "nbformat_minor": 0,
  "metadata": {
    "colab": {
      "provenance": []
    },
    "kernelspec": {
      "name": "python3",
      "display_name": "Python 3"
    },
    "language_info": {
      "name": "python"
    }
  },
  "cells": [
    {
      "cell_type": "code",
      "source": [
        "import numpy as np"
      ],
      "metadata": {
        "id": "CtHRQf5Xdg63"
      },
      "execution_count": 1,
      "outputs": []
    },
    {
      "cell_type": "code",
      "execution_count": 2,
      "metadata": {
        "id": "vwNW6MJvYE3x"
      },
      "outputs": [],
      "source": [
        "class LogisticRegression():\n",
        "  def __init__(self,lr=0.01,iter=1000):\n",
        "    self.lr=lr\n",
        "    self.iter=iter\n",
        "    self.w=None\n",
        "    self.b=None\n",
        "\n",
        "  def sigmoid(self,z):\n",
        "    output=1/(1+np.exp(-z))\n",
        "    return output\n",
        "\n",
        "  def initialize_params(self,shape):\n",
        "    self.w=np.zeros(shape)\n",
        "    self.b=0\n",
        "\n",
        "  def forward(self,X):\n",
        "    output=X@self.w + self.b\n",
        "    output = np.clip(output, -500, 500)\n",
        "    output=self.sigmoid(output)\n",
        "    return output\n",
        "\n",
        "  def cost(self,output,y):\n",
        "    result=-(y*np.log(output+1e-8) + (1-y)*np.log((1-output)+1e-8))\n",
        "    return np.mean(result)\n",
        "\n",
        "  def backward(self, X, y, y_pred):\n",
        "      m = y.shape[0]\n",
        "      dw = X.T@(y_pred - y) / m\n",
        "      db = np.sum(y_pred - y) / m\n",
        "      return dw, db\n",
        "\n",
        "  def fit(self, X, y):\n",
        "      self.initialize_params(X.shape[1])\n",
        "      for _ in range(self.iter):\n",
        "          y_pred = self.forward(X)\n",
        "          dw, db = self.backward(X, y, y_pred)\n",
        "\n",
        "          self.w -= self.lr * dw\n",
        "          self.b -= self.lr * db\n",
        "\n",
        "  def predict(self, X):\n",
        "      y_pred = self.forward(X)\n",
        "      return np.where(y_pred >= 0.5, 1, 0)"
      ]
    },
    {
      "cell_type": "code",
      "source": [
        "from sklearn.datasets import make_classification\n",
        "from sklearn.model_selection import train_test_split\n",
        "X, y = make_classification(\n",
        "    n_samples=200,\n",
        "    n_features=4,\n",
        "    n_informative=2,\n",
        "    n_redundant=0,\n",
        "    random_state=42\n",
        ")\n",
        "X_train, X_test, y_train, y_test = train_test_split(\n",
        "    X, y, test_size=0.2, random_state=123\n",
        ")\n",
        "model = LogisticRegression(lr=0.01, iter=1000)\n",
        "model.fit(X_train, y_train)\n",
        "predictions = model.predict(X_test)\n",
        "accuracy = np.sum(predictions == y_test) / len(y_test)\n",
        "print(f\"{accuracy * 100:.2f}%\")"
      ],
      "metadata": {
        "colab": {
          "base_uri": "https://localhost:8080/"
        },
        "id": "FnjNBvah2xJg",
        "outputId": "2cf26bfa-deaf-4a8b-e303-0decd8630ad6"
      },
      "execution_count": 12,
      "outputs": [
        {
          "output_type": "stream",
          "name": "stdout",
          "text": [
            "80.00%\n"
          ]
        }
      ]
    }
  ]
}