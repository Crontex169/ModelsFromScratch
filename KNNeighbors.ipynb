{
  "nbformat": 4,
  "nbformat_minor": 0,
  "metadata": {
    "colab": {
      "provenance": []
    },
    "kernelspec": {
      "name": "python3",
      "display_name": "Python 3"
    },
    "language_info": {
      "name": "python"
    }
  },
  "cells": [
    {
      "cell_type": "code",
      "source": [
        "import numpy as np\n",
        "from collections import Counter"
      ],
      "metadata": {
        "id": "T5fxLT7b1Avi"
      },
      "execution_count": 2,
      "outputs": []
    },
    {
      "cell_type": "code",
      "execution_count": 13,
      "metadata": {
        "id": "4D61Fv4dzpvA"
      },
      "outputs": [],
      "source": [
        "class KNNeighbors():\n",
        "  def __init__(self,k,p=2):\n",
        "    self.k=k\n",
        "    self.p=p\n",
        "  def minkowski(self,x1,x2):\n",
        "    temp=np.abs(x1-x2)**self.p\n",
        "    total=np.sum(temp)\n",
        "    res=total**(1/self.p)\n",
        "    return res\n",
        "  def fit(self,X,label):\n",
        "    self.X_train=X\n",
        "    self.label=label\n",
        "  def predict(self,X):\n",
        "    dist=[self.minkowski(x_train,X) for x_train in self.X_train]\n",
        "    k_indices=np.argsort(dist)[:self.k]\n",
        "    k_labels=[self.label[y] for y in k_indices]\n",
        "    most_common=Counter(k_labels).most_common()\n",
        "    return most_common[0][0]\n",
        "\n",
        "\n",
        "\n",
        "#neighbors\n"
      ]
    },
    {
      "cell_type": "code",
      "source": [
        "X = np.array([[1, 2], [2, 3], [3, 4]])\n",
        "y = np.array([0, 1, 1])\n",
        "\n",
        "knn = KNNeighbors(k=2)\n",
        "knn.fit(X, y)\n",
        "print(knn.predict(np.array([2, 2])))\n"
      ],
      "metadata": {
        "id": "CXWx0q_szuOs",
        "colab": {
          "base_uri": "https://localhost:8080/"
        },
        "outputId": "e392b027-bfe9-44ba-9e22-7c9f8ad649ea"
      },
      "execution_count": 22,
      "outputs": [
        {
          "output_type": "stream",
          "name": "stdout",
          "text": [
            "0\n"
          ]
        }
      ]
    }
  ]
}